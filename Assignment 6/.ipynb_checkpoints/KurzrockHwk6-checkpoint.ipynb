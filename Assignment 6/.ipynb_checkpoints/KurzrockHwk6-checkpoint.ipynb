{
 "cells": [
  {
   "cell_type": "markdown",
   "metadata": {},
   "source": [
    "# Ian Kurzrock"
   ]
  },
  {
   "cell_type": "markdown",
   "metadata": {},
   "source": [
    "## Assignment 6"
   ]
  },
  {
   "cell_type": "markdown",
   "metadata": {},
   "source": [
    "#### Joint probability (of co-occurrence) is most important in science\n",
    "#### and engineering in general, and in machine learning in particular.\n",
    "#### Refer to what was said about the GLCM (grey level co-occurrence matrix)\n",
    "#### of an image for example.\n",
    "#### The purpose of this assignment is to implement the computation\n",
    "#### of many information-theoretic measures associated with such joint probability,\n",
    "#### using TensorFlow functions.\n",
    "####   ...\n",
    "#### Refer to modules 4 and 5 again, if necessary. "
   ]
  },
  {
   "cell_type": "markdown",
   "metadata": {},
   "source": [
    "# ...."
   ]
  },
  {
   "cell_type": "markdown",
   "metadata": {},
   "source": [
    "##### Recall that  log base 2 of x  =  (log base 2 of e) * (log base e of x)"
   ]
  },
  {
   "cell_type": "markdown",
   "metadata": {},
   "source": [
    "##### So,    log base 2 of x =  1.44269 * log base e of x"
   ]
  },
  {
   "cell_type": "markdown",
   "metadata": {},
   "source": [
    "###  ....................."
   ]
  },
  {
   "cell_type": "markdown",
   "metadata": {},
   "source": [
    "# ............"
   ]
  },
  {
   "cell_type": "markdown",
   "metadata": {},
   "source": [
    "#### 1. The usual import(s)"
   ]
  },
  {
   "cell_type": "code",
   "execution_count": 1,
   "metadata": {
    "collapsed": true
   },
   "outputs": [],
   "source": [
    "import numpy\n",
    "import tensorflow as tf"
   ]
  },
  {
   "cell_type": "markdown",
   "metadata": {},
   "source": [
    "#### 2. The usual Session object"
   ]
  },
  {
   "cell_type": "code",
   "execution_count": 2,
   "metadata": {
    "collapsed": true
   },
   "outputs": [],
   "source": [
    "session = tf.Session()"
   ]
  },
  {
   "cell_type": "markdown",
   "metadata": {},
   "source": [
    "#### 3. Define a TensorFlow placeholder to hold the joint probability J.\n",
    "#####    Sizes are not fixed in advance, so that the below functions\n",
    "#####    may be used on any such joint probability."
   ]
  },
  {
   "cell_type": "code",
   "execution_count": 3,
   "metadata": {
    "collapsed": true
   },
   "outputs": [],
   "source": [
    "J = tf.placeholder(\"float\", shape=[None])"
   ]
  },
  {
   "cell_type": "markdown",
   "metadata": {},
   "source": [
    "####  The actual 3 joint probability tables must be the following:"
   ]
  },
  {
   "cell_type": "code",
   "execution_count": 4,
   "metadata": {
    "collapsed": true
   },
   "outputs": [],
   "source": [
    "p1q1 = [[0.125, 0.125], [0.5, 0.25]]\n",
    "p2q2 = [[0.08,0.01,0.10], [0.10,0.20,0.01], [0.06,0.08,0.20],[0.03,0.08,0.05]]\n",
    "p3q3 = [[0.,1.], [0.,0.]]"
   ]
  },
  {
   "cell_type": "markdown",
   "metadata": {},
   "source": [
    "#### 4. Define the joint entropy function for any joint probability table J,\n",
    "####     using appropriate TensorFlow functions.\n",
    "####     This entropy must be base 2.\n",
    "####     It should never produce NaN  ot Inf."
   ]
  },
  {
   "cell_type": "code",
   "execution_count": 5,
   "metadata": {
    "collapsed": true
   },
   "outputs": [],
   "source": [
    "def joint_entropy(J):\n",
    "    sh = tf.shape(J)\n",
    "    Q = tf.fill(sh, 1e-10)\n",
    "    return -tf.reduce_sum(tf.multiply(J, tf.log(J+Q)*1.44269))"
   ]
  },
  {
   "cell_type": "markdown",
   "metadata": {},
   "source": [
    "#### 5. Show the joint entropy for p1q1, p2q2, p3q3 above."
   ]
  },
  {
   "cell_type": "code",
   "execution_count": 6,
   "metadata": {},
   "outputs": [
    {
     "name": "stdout",
     "output_type": "stream",
     "text": [
      "Joint entropy of p1q1:  1.74999\n",
      "Joint entropy of p2q2:  3.21195\n",
      "Joint entropy of p3q3:  -0.0\n"
     ]
    }
   ],
   "source": [
    "print('Joint entropy of p1q1: ', session.run(joint_entropy(p1q1)))\n",
    "print('Joint entropy of p2q2: ', session.run(joint_entropy(p2q2)))\n",
    "print('Joint entropy of p3q3: ', session.run(joint_entropy(p3q3)))"
   ]
  },
  {
   "cell_type": "markdown",
   "metadata": {},
   "source": [
    "#### 6. Define the function that extracts the probability vector\n",
    "####     of the first component in the probability table (marginalization)."
   ]
  },
  {
   "cell_type": "code",
   "execution_count": 7,
   "metadata": {
    "collapsed": true
   },
   "outputs": [],
   "source": [
    "def first(J): #p(X)\n",
    "    \n",
    "    ten = tf.shape(J)\n",
    "    rows = ten[0]\n",
    "    \n",
    "    s = tf.fill([rows],0) #filling an rows length array with 0's\n",
    "    \n",
    "    s = tf.reduce_sum(J, 1) #reduce sum adds tensor elements one by one\n",
    "                            #ex [3,4,5] [1,2,3] reduce_sum = [4,6,8]\n",
    "    return s"
   ]
  },
  {
   "cell_type": "markdown",
   "metadata": {},
   "source": [
    "#### 7. Show the probability vector for the first component of p1q1, p2q2, p3q3."
   ]
  },
  {
   "cell_type": "code",
   "execution_count": 8,
   "metadata": {},
   "outputs": [
    {
     "name": "stdout",
     "output_type": "stream",
     "text": [
      "First component of joint p1q1:  [ 0.25  0.75]\n",
      "First component of joint p2q2:  [ 0.19  0.31  0.34  0.16]\n",
      "First component of joint p3q3:  [ 1.  0.]\n"
     ]
    }
   ],
   "source": [
    "print('First component of joint p1q1: ', session.run(first(p1q1)))\n",
    "print('First component of joint p2q2: ', session.run(first(p2q2)))\n",
    "print('First component of joint p3q3: ', session.run(first(p3q3)))"
   ]
  },
  {
   "cell_type": "markdown",
   "metadata": {},
   "source": [
    "#### 8. Define the function that extracts the probability vector\n",
    "####     of the second component in the probability table (marginalization)."
   ]
  },
  {
   "cell_type": "code",
   "execution_count": 9,
   "metadata": {
    "collapsed": true
   },
   "outputs": [],
   "source": [
    "def second(J): #p(Y)\n",
    "    \n",
    "    ten = tf.shape(J)\n",
    "    cols = ten[1]\n",
    "    \n",
    "    s = tf.fill([cols],0) \n",
    "    \n",
    "    s = tf.reduce_sum(J, 0) \n",
    "    \n",
    "    return s"
   ]
  },
  {
   "cell_type": "markdown",
   "metadata": {},
   "source": [
    "#### 9. Show the probability vector for the second component of p1q1, p2q2, p3q3."
   ]
  },
  {
   "cell_type": "code",
   "execution_count": 10,
   "metadata": {},
   "outputs": [
    {
     "name": "stdout",
     "output_type": "stream",
     "text": [
      "Second component of joint p1q1:  [ 0.625  0.375]\n",
      "Second component of joint p2q2:  [ 0.27000001  0.37        0.36000001]\n",
      "Second component of joint p3q3:  [ 0.  1.]\n"
     ]
    }
   ],
   "source": [
    "print('Second component of joint p1q1: ', session.run(second(p1q1)))\n",
    "print('Second component of joint p2q2: ', session.run(second(p2q2)))\n",
    "print('Second component of joint p3q3: ', session.run(second(p3q3)))"
   ]
  },
  {
   "cell_type": "markdown",
   "metadata": {},
   "source": [
    "#### 10. Define the entropy function of the first component \n",
    "####     for any joint probability table J, using appropriate TensorFlow functions.\n",
    "####     This entropy must be base 2.\n",
    "####     It should never produce NaN  ot Inf."
   ]
  },
  {
   "cell_type": "code",
   "execution_count": 11,
   "metadata": {
    "collapsed": true
   },
   "outputs": [],
   "source": [
    "def entropy_first(J): #H(X)\n",
    "    px = first(J)\n",
    "    return joint_entropy(px)"
   ]
  },
  {
   "cell_type": "markdown",
   "metadata": {},
   "source": [
    "#### 11. Show the entropy for the first component of p1q1, p2q2, p3q3."
   ]
  },
  {
   "cell_type": "code",
   "execution_count": 12,
   "metadata": {},
   "outputs": [
    {
     "name": "stdout",
     "output_type": "stream",
     "text": [
      "First entropy of p1q1:  0.811275\n",
      "First entropy of p2q2:  1.9312\n",
      "First entropy of p3q3:  -0.0\n"
     ]
    }
   ],
   "source": [
    "print('First entropy of p1q1: ', session.run(entropy_first(p1q1)))\n",
    "print('First entropy of p2q2: ', session.run(entropy_first(p2q2)))\n",
    "print('First entropy of p3q3: ', session.run(entropy_first(p3q3)))"
   ]
  },
  {
   "cell_type": "markdown",
   "metadata": {},
   "source": [
    "#### 12. Define the entropy function of the second component \n",
    "####     for any joint probability table J, using appropriate TensorFlow functions.\n",
    "####     This entropy must be base 2.\n",
    "####     It should never produce NaN  ot Inf."
   ]
  },
  {
   "cell_type": "code",
   "execution_count": 13,
   "metadata": {
    "collapsed": true
   },
   "outputs": [],
   "source": [
    "def entropy_second(J): #H(Y)\n",
    "    px = second(J)\n",
    "    return joint_entropy(px)"
   ]
  },
  {
   "cell_type": "markdown",
   "metadata": {},
   "source": [
    "#### 13. Show the entropy for the second component of p1q1, p2q2, p3q3."
   ]
  },
  {
   "cell_type": "code",
   "execution_count": 14,
   "metadata": {},
   "outputs": [
    {
     "name": "stdout",
     "output_type": "stream",
     "text": [
      "Second entropy of p1q1:  0.954431\n",
      "Second entropy of p2q2:  1.57136\n",
      "Second entropy of p3q3:  -0.0\n"
     ]
    }
   ],
   "source": [
    "print('Second entropy of p1q1: ', session.run(entropy_second(p1q1)))\n",
    "print('Second entropy of p2q2: ', session.run(entropy_second(p2q2)))\n",
    "print('Second entropy of p3q3: ', session.run(entropy_second(p3q3)))"
   ]
  },
  {
   "cell_type": "markdown",
   "metadata": {},
   "source": [
    "#### 14. Define the conditional entropy function of the first component \n",
    "####       if (with respect to) second component, for any joint probability table J, \n",
    "####       using appropriate TensorFlow functions.\n",
    "####     Should be easy, if you recall your entropy formulas."
   ]
  },
  {
   "cell_type": "code",
   "execution_count": 15,
   "metadata": {
    "collapsed": true
   },
   "outputs": [],
   "source": [
    "def conditional_entropy_first_if_second(J): #H(X|Y)\n",
    "    return tf.subtract(joint_entropy(J), entropy_second(J))"
   ]
  },
  {
   "cell_type": "markdown",
   "metadata": {},
   "source": [
    "#### 15. Show the conditional entropy H(first | second) for the joint p1q1, p2q2, p3q3."
   ]
  },
  {
   "cell_type": "code",
   "execution_count": 16,
   "metadata": {},
   "outputs": [
    {
     "name": "stdout",
     "output_type": "stream",
     "text": [
      "entropy first if second of p1q1:  0.795563\n",
      "entropy first if second of p2q2:  1.64058\n",
      "entropy first if second of p3q3:  0.0\n"
     ]
    }
   ],
   "source": [
    "print('entropy first if second of p1q1: ', session.run(conditional_entropy_first_if_second(p1q1)))\n",
    "print('entropy first if second of p2q2: ', session.run(conditional_entropy_first_if_second(p2q2)))\n",
    "print('entropy first if second of p3q3: ', session.run(conditional_entropy_first_if_second(p3q3)))"
   ]
  },
  {
   "cell_type": "markdown",
   "metadata": {},
   "source": [
    "#### 16. Define the conditional entropy function of the second component \n",
    "####       if (with respect to) first component, for any joint probability table J, \n",
    "####       using appropriate TensorFlow functions."
   ]
  },
  {
   "cell_type": "code",
   "execution_count": 17,
   "metadata": {
    "collapsed": true
   },
   "outputs": [],
   "source": [
    "def conditional_entropy_second_if_first(J): #H(Y|X)\n",
    "    return tf.subtract(joint_entropy(J), entropy_first(J))"
   ]
  },
  {
   "cell_type": "markdown",
   "metadata": {},
   "source": [
    "#### 17. Show the conditional entropy H(second | first) for the joint p1q1, p2q2, p3q3."
   ]
  },
  {
   "cell_type": "code",
   "execution_count": 18,
   "metadata": {},
   "outputs": [
    {
     "name": "stdout",
     "output_type": "stream",
     "text": [
      "entropy second if first of p1q1:  0.938719\n",
      "entropy second if first of p2q2:  1.28074\n",
      "entropy second if first of p3q3:  0.0\n"
     ]
    }
   ],
   "source": [
    "print('entropy second if first of p1q1: ', session.run(conditional_entropy_second_if_first(p1q1)))\n",
    "print('entropy second if first of p2q2: ', session.run(conditional_entropy_second_if_first(p2q2)))\n",
    "print('entropy second if first of p3q3: ', session.run(conditional_entropy_second_if_first(p3q3)))"
   ]
  },
  {
   "cell_type": "markdown",
   "metadata": {
    "collapsed": true
   },
   "source": [
    "### ...."
   ]
  },
  {
   "cell_type": "markdown",
   "metadata": {},
   "source": [
    "#### 18. Define the mutual information function between the first component \n",
    "####       and the second component, for any joint probability table J, \n",
    "####       using appropriate TensorFlow functions.\n",
    "####     Should be easy, if you recall your entropy formulas."
   ]
  },
  {
   "cell_type": "code",
   "execution_count": 19,
   "metadata": {
    "collapsed": true
   },
   "outputs": [],
   "source": [
    "def mutual_information_first_and_second(J): #I(X,Y)\n",
    "    return tf.subtract(entropy_first(J), conditional_entropy_first_if_second(J))"
   ]
  },
  {
   "cell_type": "markdown",
   "metadata": {},
   "source": [
    "#### 19. Show the mutual information I(first;second) for the joint p1q1, p2q2, p3q3."
   ]
  },
  {
   "cell_type": "code",
   "execution_count": 20,
   "metadata": {},
   "outputs": [
    {
     "name": "stdout",
     "output_type": "stream",
     "text": [
      "mutual information first and second of p1q1:  0.0157121\n",
      "mutual information first and second of p2q2:  0.29062\n",
      "mutual information first and second of p3q3:  -0.0\n"
     ]
    }
   ],
   "source": [
    "print('mutual information first and second of p1q1: ', session.run(mutual_information_first_and_second(p1q1)))\n",
    "print('mutual information first and second of p2q2: ', session.run(mutual_information_first_and_second(p2q2)))\n",
    "print('mutual information first and second of p3q3: ', session.run(mutual_information_first_and_second(p3q3)))"
   ]
  },
  {
   "cell_type": "markdown",
   "metadata": {},
   "source": [
    "#### 20. Define the mutual information function between the second component \n",
    "####       and the first component, for any joint probability table J, \n",
    "####       using appropriate TensorFlow functions."
   ]
  },
  {
   "cell_type": "code",
   "execution_count": 21,
   "metadata": {
    "collapsed": true
   },
   "outputs": [],
   "source": [
    "def mutual_information_second_and_first(J): #I(Y,X)\n",
    "    return tf.subtract(entropy_second(J), conditional_entropy_second_if_first(J))"
   ]
  },
  {
   "cell_type": "markdown",
   "metadata": {},
   "source": [
    "#### 21. Show the mutual information I(second; first) for the joint p1q1, p2q2, p3q3.\n",
    "####    .......\n",
    "###  Since mutual information I(X;Y) is symmetric, the results must be identical to the above."
   ]
  },
  {
   "cell_type": "code",
   "execution_count": 22,
   "metadata": {},
   "outputs": [
    {
     "name": "stdout",
     "output_type": "stream",
     "text": [
      "mutual information second and first of p1q1:  0.0157121\n",
      "mutual information second and first of p2q2:  0.29062\n",
      "mutual information second and first of p3q3:  -0.0\n"
     ]
    }
   ],
   "source": [
    "print('mutual information second and first of p1q1: ', session.run(mutual_information_second_and_first(p1q1)))\n",
    "print('mutual information second and first of p2q2: ', session.run(mutual_information_second_and_first(p2q2)))\n",
    "print('mutual information second and first of p3q3: ', session.run(mutual_information_second_and_first(p3q3)))"
   ]
  },
  {
   "cell_type": "markdown",
   "metadata": {},
   "source": [
    "## ....."
   ]
  },
  {
   "cell_type": "markdown",
   "metadata": {},
   "source": [
    "### KL (and other divergences, distances) apply only to distributions\n",
    "### of the same length (on the same space of outcomes)"
   ]
  },
  {
   "cell_type": "markdown",
   "metadata": {},
   "source": [
    "#### 22. Define the Kullback-Leibler (relative entropy) function  between the first component \n",
    "####     and the second component for any joint probability table J, using appropriate TensorFlow functions.\n",
    "####     This entropy must be base 2.\n",
    "####     It should never produce NaN  ot Inf."
   ]
  },
  {
   "cell_type": "code",
   "execution_count": 23,
   "metadata": {
    "collapsed": true
   },
   "outputs": [],
   "source": [
    "def kullback_leibler_first_and_second(J):  #D(X||Y)  \n",
    "    sh = tf.shape(J)\n",
    "    Q = tf.fill([sh[1]], 1e-10)\n",
    "    return -tf.reduce_sum(tf.multiply(first(J), tf.log(second(J)+Q)*1.44269))"
   ]
  },
  {
   "cell_type": "markdown",
   "metadata": {},
   "source": [
    "#### 23. Show the Kullback-Leibler divergence KL(first;second) for the joint p1q1 and p3q3.\n",
    "####       p2q2 cannot be used."
   ]
  },
  {
   "cell_type": "code",
   "execution_count": 24,
   "metadata": {},
   "outputs": [
    {
     "name": "stdout",
     "output_type": "stream",
     "text": [
      "KL first||second of p1q1:  1.23079\n",
      "KL first||second of p3q3:  33.2192\n"
     ]
    }
   ],
   "source": [
    "print('KL first||second of p1q1: ', session.run(kullback_leibler_first_and_second(p1q1)))\n",
    "print('KL first||second of p3q3: ', session.run(kullback_leibler_first_and_second(p3q3)))"
   ]
  },
  {
   "cell_type": "markdown",
   "metadata": {},
   "source": [
    "#### 24. Define the Kullback-Leibler (relative entropy) function  between the second component \n",
    "####     and the first component for any joint probability table J, using appropriate TensorFlow functions.\n",
    "####     This entropy must be base 2.\n",
    "####     It should never produce NaN  ot Inf."
   ]
  },
  {
   "cell_type": "code",
   "execution_count": 25,
   "metadata": {
    "collapsed": true
   },
   "outputs": [],
   "source": [
    "def kullback_leibler_second_and_first(J): #D(Y||X)\n",
    "    sh = tf.shape(J)\n",
    "    Q = tf.fill([sh[0]], 1e-10)\n",
    "    return -tf.reduce_sum(tf.multiply(second(J), tf.log(first(J)+Q)*1.44269))"
   ]
  },
  {
   "cell_type": "markdown",
   "metadata": {},
   "source": [
    "#### 25. Show the Kullback-Leibler divergence KL(second;first) for the joint p1q1 and p3q3.\n",
    "####       p2q2 cannot be used.\n",
    "####   ....\n",
    "###    KL(X;Y) is not symmetric, so you would not always get the same results as above."
   ]
  },
  {
   "cell_type": "code",
   "execution_count": 26,
   "metadata": {},
   "outputs": [
    {
     "name": "stdout",
     "output_type": "stream",
     "text": [
      "KL second||first of p1q1:  1.40563\n",
      "KL second||first of p3q3:  33.2192\n"
     ]
    }
   ],
   "source": [
    "print('KL second||first of p1q1: ', session.run(kullback_leibler_second_and_first(p1q1)))\n",
    "print('KL second||first of p3q3: ', session.run(kullback_leibler_second_and_first(p3q3)))"
   ]
  },
  {
   "cell_type": "markdown",
   "metadata": {
    "collapsed": true
   },
   "source": [
    "# ................"
   ]
  },
  {
   "cell_type": "markdown",
   "metadata": {},
   "source": [
    "###   There is a true metric (true distance) defined for probability distributions of the same\n",
    "###    length, shown in my write-ups.\n",
    "### ...\n",
    "####   26. Define this true metric function between the components of any joint probability table J, \n",
    "####   using the conditional entropy functions you defined above."
   ]
  },
  {
   "cell_type": "code",
   "execution_count": 27,
   "metadata": {
    "collapsed": true
   },
   "outputs": [],
   "source": [
    "def distance_first_second(J): #d(X,Y)\n",
    "    return tf.add(conditional_entropy_first_if_second(J), conditional_entropy_second_if_first(J))"
   ]
  },
  {
   "cell_type": "markdown",
   "metadata": {},
   "source": [
    "#### 27. Show the distance distance(first,second) for the joint p1q1 and p3q3.\n",
    "####       p2q2 cannot be used.\n",
    "####   ...."
   ]
  },
  {
   "cell_type": "code",
   "execution_count": 28,
   "metadata": {},
   "outputs": [
    {
     "name": "stdout",
     "output_type": "stream",
     "text": [
      "Distance(first,second) of p1q1:  1.73428\n",
      "Distance(first,second)of p3q3:  0.0\n"
     ]
    }
   ],
   "source": [
    "print('Distance(first,second) of p1q1: ', session.run(distance_first_second(p1q1)))\n",
    "print('Distance(first,second)of p3q3: ', session.run(distance_first_second(p3q3)))"
   ]
  }
 ],
 "metadata": {
  "kernelspec": {
   "display_name": "Python 3",
   "language": "python",
   "name": "python3"
  },
  "language_info": {
   "codemirror_mode": {
    "name": "ipython",
    "version": 3
   },
   "file_extension": ".py",
   "mimetype": "text/x-python",
   "name": "python",
   "nbconvert_exporter": "python",
   "pygments_lexer": "ipython3",
   "version": "3.6.3"
  }
 },
 "nbformat": 4,
 "nbformat_minor": 2
}
